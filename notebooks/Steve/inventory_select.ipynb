{
 "cells": [
  {
   "cell_type": "code",
   "execution_count": null,
   "metadata": {},
   "outputs": [],
   "source": [
    "#  this program reads in the ghcd_inventory file\n",
    "#  breaks it up into rows/fields\n",
    "#  selects only the useful rows\n",
    "#  then writes it back out as a csv\n",
    "\n",
    "import csv\n",
    "import pandas as pd\n",
    "\n",
    "inputtext = \"../../data/rawdata/inventory.txt\"\n",
    "\n",
    "with open(inputtext, \"r\") as text:\n",
    "    contents = text.read()\n",
    "\n",
    "# "
   ]
  },
  {
   "cell_type": "code",
   "execution_count": 1,
   "metadata": {},
   "outputs": [
    {
     "name": "stdout",
     "output_type": "stream",
     "text": [
      "AFM00040938  34.2100   62.2280 SNWD 1982 2019\n",
      "\n",
      "613006\n"
     ]
    }
   ],
   "source": [
    "# break up the file contents into recognizeable records\n",
    "begin = 0\n",
    "end   = 46\n",
    "lines = []\n",
    "\n",
    "while begin < len(contents):\n",
    "    lines.append(contents[begin: end])\n",
    "    begin += 46\n",
    "    end   += 46\n",
    "\n",
    "    \n",
    "print(lines[42])\n",
    "print(len(lines))"
   ]
  },
  {
   "cell_type": "code",
   "execution_count": 8,
   "metadata": {
    "scrolled": true
   },
   "outputs": [
    {
     "data": {
      "text/html": [
       "<div>\n",
       "<style scoped>\n",
       "    .dataframe tbody tr th:only-of-type {\n",
       "        vertical-align: middle;\n",
       "    }\n",
       "\n",
       "    .dataframe tbody tr th {\n",
       "        vertical-align: top;\n",
       "    }\n",
       "\n",
       "    .dataframe thead th {\n",
       "        text-align: right;\n",
       "    }\n",
       "</style>\n",
       "<table border=\"1\" class=\"dataframe\">\n",
       "  <thead>\n",
       "    <tr style=\"text-align: right;\">\n",
       "      <th></th>\n",
       "      <th>Station</th>\n",
       "    </tr>\n",
       "  </thead>\n",
       "  <tbody>\n",
       "    <tr>\n",
       "      <th>0</th>\n",
       "      <td>USC00041194</td>\n",
       "    </tr>\n",
       "    <tr>\n",
       "      <th>1</th>\n",
       "      <td>USC00045983</td>\n",
       "    </tr>\n",
       "    <tr>\n",
       "      <th>2</th>\n",
       "      <td>USC00050109</td>\n",
       "    </tr>\n",
       "    <tr>\n",
       "      <th>3</th>\n",
       "      <td>USC00051996</td>\n",
       "    </tr>\n",
       "    <tr>\n",
       "      <th>4</th>\n",
       "      <td>USC00052631</td>\n",
       "    </tr>\n",
       "  </tbody>\n",
       "</table>\n",
       "</div>"
      ],
      "text/plain": [
       "       Station\n",
       "0  USC00041194\n",
       "1  USC00045983\n",
       "2  USC00050109\n",
       "3  USC00051996\n",
       "4  USC00052631"
      ]
     },
     "execution_count": 8,
     "metadata": {},
     "output_type": "execute_result"
    }
   ],
   "source": [
    "# now, break up the lines into fields, with which we will form a dataframe\n",
    "\n",
    "ID = []\n",
    "Latitude = []\n",
    "Longitude = []\n",
    "Element = []\n",
    "Firstyear = []\n",
    "Lastyear = []\n",
    "Stations = []\n",
    "Desired_elements = [\"AWND\", \"PSUN\", \"ACSC\", \"ACSH\", \"ACMC\", \"ACMH\"]\n",
    "\n",
    "for line in lines:\n",
    "    if line[0:2] == \"US\":        # We want only US stations\n",
    "        if line[31:35] in Desired_elements:\n",
    "            ID.append(line[0:11])\n",
    "            Latitude.append(line[12:20])\n",
    "            Longitude.append(line[21:30])\n",
    "            Element.append(line[31:35])\n",
    "            Firstyear.append(line[36:40])\n",
    "            Lastyear.append(line[41:45])\n",
    "    \n",
    "xxx = {\"ID\": ID,\n",
    "      \"Latitude\": Latitude,\n",
    "      \"Longitude\": Longitude,\n",
    "      \"Element\": Element,\n",
    "      \"Firstyear\": Firstyear,\n",
    "      \"Lastyear\": Lastyear}\n",
    "\n",
    "Inventory_df = pd.DataFrame(xxx)\n",
    "Inventory_df.head()\n",
    "\n",
    "# Save a list of stations we have selected.  We will use this to assist in building the weatherdata file\n",
    "Stations = Inventory_df[\"ID\"].unique()\n",
    "Stationlist_df = pd.DataFrame({\"Station\": Stations})\n",
    "Stationlist_df.head()\n",
    "   "
   ]
  },
  {
   "cell_type": "code",
   "execution_count": 9,
   "metadata": {
    "scrolled": true
   },
   "outputs": [],
   "source": [
    "# I don't think we have further use for inventory data, but we can save it just in case\n",
    "\n",
    "outfile = \"../../data/rawdata/inventory.csv\"\n",
    "export_csv = Inventory_df.to_csv(outfile, index=False, header=True)\n",
    "\n",
    "# station_list will be used to select data files for weatherdata\n",
    "outfile = \"../../data/rawdata/station_list.csv\"\n",
    "export_csv = Stationlist_df.to_csv(outfile, index=False, header=True)"
   ]
  },
  {
   "cell_type": "code",
   "execution_count": null,
   "metadata": {},
   "outputs": [],
   "source": []
  }
 ],
 "metadata": {
  "anaconda-cloud": {},
  "kernelspec": {
   "display_name": "Python 3",
   "language": "python",
   "name": "python3"
  },
  "language_info": {
   "codemirror_mode": {
    "name": "ipython",
    "version": 3
   },
   "file_extension": ".py",
   "mimetype": "text/x-python",
   "name": "python",
   "nbconvert_exporter": "python",
   "pygments_lexer": "ipython3",
   "version": "3.7.1"
  }
 },
 "nbformat": 4,
 "nbformat_minor": 2
}
