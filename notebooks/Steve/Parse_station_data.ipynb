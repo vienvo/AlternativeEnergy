{
 "cells": [
  {
   "cell_type": "code",
   "execution_count": 2,
   "metadata": {},
   "outputs": [],
   "source": [
    "#  this program reads in the ghcd_station file\n",
    "#  breaks it up into rows/fields\n",
    "#  selects only the useful rows\n",
    "#  then writes it back out as a csv\n",
    "\n",
    "import csv\n",
    "import pandas as pd\n",
    "\n",
    "inputtext = \"../../data/rawdata/stations.txt\"\n",
    "\n",
    "with open(inputtext, \"r\") as text:\n",
    "    contents = text.read()\n",
    "    \n",
    "    "
   ]
  },
  {
   "cell_type": "code",
   "execution_count": 3,
   "metadata": {},
   "outputs": [
    {
     "name": "stdout",
     "output_type": "stream",
     "text": [
      "AGM00060403  36.4670    7.4670  228.0    GUELMA                                 60403\n",
      "\n",
      "108081\n"
     ]
    }
   ],
   "source": [
    "# break up the file contents into recognizeable records\n",
    "begin = 0\n",
    "end   = 86\n",
    "lines = []\n",
    "\n",
    "while begin < len(contents):\n",
    "    lines.append(contents[begin: end])\n",
    "    begin += 86\n",
    "    end   += 86\n",
    "\n",
    "    \n",
    "print(lines[42])\n",
    "print(len(lines))"
   ]
  },
  {
   "cell_type": "code",
   "execution_count": 8,
   "metadata": {},
   "outputs": [
    {
     "data": {
      "text/html": [
       "<div>\n",
       "<style scoped>\n",
       "    .dataframe tbody tr th:only-of-type {\n",
       "        vertical-align: middle;\n",
       "    }\n",
       "\n",
       "    .dataframe tbody tr th {\n",
       "        vertical-align: top;\n",
       "    }\n",
       "\n",
       "    .dataframe thead th {\n",
       "        text-align: right;\n",
       "    }\n",
       "</style>\n",
       "<table border=\"1\" class=\"dataframe\">\n",
       "  <thead>\n",
       "    <tr style=\"text-align: right;\">\n",
       "      <th></th>\n",
       "      <th>ID</th>\n",
       "      <th>Latitude</th>\n",
       "      <th>Longitude</th>\n",
       "      <th>Elevation</th>\n",
       "      <th>State</th>\n",
       "      <th>Name</th>\n",
       "    </tr>\n",
       "  </thead>\n",
       "  <tbody>\n",
       "    <tr>\n",
       "      <th>0</th>\n",
       "      <td>US009052008</td>\n",
       "      <td>43.7333</td>\n",
       "      <td>-96.6333</td>\n",
       "      <td>482.0</td>\n",
       "      <td>SD</td>\n",
       "      <td>SIOUX FALLS (ENVIRON. CANADA)</td>\n",
       "    </tr>\n",
       "    <tr>\n",
       "      <th>1</th>\n",
       "      <td>US10RMHS145</td>\n",
       "      <td>40.5268</td>\n",
       "      <td>-105.1113</td>\n",
       "      <td>1569.1</td>\n",
       "      <td>CO</td>\n",
       "      <td>RMHS 1.6 SSW</td>\n",
       "    </tr>\n",
       "    <tr>\n",
       "      <th>2</th>\n",
       "      <td>US10adam001</td>\n",
       "      <td>40.5680</td>\n",
       "      <td>-98.5069</td>\n",
       "      <td>598.0</td>\n",
       "      <td>NE</td>\n",
       "      <td>JUNIATA 1.5 S</td>\n",
       "    </tr>\n",
       "    <tr>\n",
       "      <th>3</th>\n",
       "      <td>US10adam002</td>\n",
       "      <td>40.5093</td>\n",
       "      <td>-98.5493</td>\n",
       "      <td>601.1</td>\n",
       "      <td>NE</td>\n",
       "      <td>JUNIATA 6.0 SSW</td>\n",
       "    </tr>\n",
       "    <tr>\n",
       "      <th>4</th>\n",
       "      <td>US10adam003</td>\n",
       "      <td>40.4663</td>\n",
       "      <td>-98.6537</td>\n",
       "      <td>615.1</td>\n",
       "      <td>NE</td>\n",
       "      <td>HOLSTEIN 0.1 NW</td>\n",
       "    </tr>\n",
       "  </tbody>\n",
       "</table>\n",
       "</div>"
      ],
      "text/plain": [
       "            ID  Latitude  Longitude Elevation State  \\\n",
       "0  US009052008   43.7333   -96.6333     482.0    SD   \n",
       "1  US10RMHS145   40.5268  -105.1113    1569.1    CO   \n",
       "2  US10adam001   40.5680   -98.5069     598.0    NE   \n",
       "3  US10adam002   40.5093   -98.5493     601.1    NE   \n",
       "4  US10adam003   40.4663   -98.6537     615.1    NE   \n",
       "\n",
       "                             Name  \n",
       "0  SIOUX FALLS (ENVIRON. CANADA)   \n",
       "1  RMHS 1.6 SSW                    \n",
       "2  JUNIATA 1.5 S                   \n",
       "3  JUNIATA 6.0 SSW                 \n",
       "4  HOLSTEIN 0.1 NW                 "
      ]
     },
     "execution_count": 8,
     "metadata": {},
     "output_type": "execute_result"
    }
   ],
   "source": [
    "# now, break up the lines into fields, with which we will form a dataframe\n",
    "\n",
    "ID = []\n",
    "Latitude = []\n",
    "Longitude = []\n",
    "Elevation = []\n",
    "State = []\n",
    "Name = []\n",
    "\n",
    "for line in lines:\n",
    "    if line[0:2] == \"US\":        # We want only US stations\n",
    "        ID.append(line[0:11])\n",
    "        Latitude.append(line[12:20])\n",
    "        Longitude.append(line[21:30])\n",
    "        Elevation.append(line[31:37])\n",
    "        State.append(line[38:40])\n",
    "        Name.append(line[41:71])\n",
    "        \n",
    "xxx = {\"ID\": ID,\n",
    "      \"Latitude\": Latitude,\n",
    "      \"Longitude\": Longitude,\n",
    "      \"Elevation\": Elevation,\n",
    "      \"State\": State,\n",
    "      \"Name\": Name}\n",
    "\n",
    "Stations_df = pd.DataFrame(xxx)\n",
    "Stations_df.head()\n"
   ]
  },
  {
   "cell_type": "code",
   "execution_count": 11,
   "metadata": {},
   "outputs": [],
   "source": [
    "# now it can be written out for later use\n",
    "outfile = \"../../data/cleandata/Stations.csv\"\n",
    "export_csv = Stations_df.to_csv(outfile, index=False, header=True)"
   ]
  },
  {
   "cell_type": "code",
   "execution_count": null,
   "metadata": {},
   "outputs": [],
   "source": []
  }
 ],
 "metadata": {
  "kernelspec": {
   "display_name": "Python 3",
   "language": "python",
   "name": "python3"
  },
  "language_info": {
   "codemirror_mode": {
    "name": "ipython",
    "version": 3
   },
   "file_extension": ".py",
   "mimetype": "text/x-python",
   "name": "python",
   "nbconvert_exporter": "python",
   "pygments_lexer": "ipython3",
   "version": "3.7.1"
  }
 },
 "nbformat": 4,
 "nbformat_minor": 2
}
