{
 "cells": [
  {
   "cell_type": "code",
   "execution_count": 1,
   "metadata": {},
   "outputs": [
    {
     "data": {
      "text/html": [
       "<div>\n",
       "<style scoped>\n",
       "    .dataframe tbody tr th:only-of-type {\n",
       "        vertical-align: middle;\n",
       "    }\n",
       "\n",
       "    .dataframe tbody tr th {\n",
       "        vertical-align: top;\n",
       "    }\n",
       "\n",
       "    .dataframe thead th {\n",
       "        text-align: right;\n",
       "    }\n",
       "</style>\n",
       "<table border=\"1\" class=\"dataframe\">\n",
       "  <thead>\n",
       "    <tr style=\"text-align: right;\">\n",
       "      <th></th>\n",
       "      <th>city</th>\n",
       "      <th>driver_count</th>\n",
       "      <th>type</th>\n",
       "      <th>date</th>\n",
       "      <th>fare</th>\n",
       "      <th>ride_id</th>\n",
       "    </tr>\n",
       "  </thead>\n",
       "  <tbody>\n",
       "    <tr>\n",
       "      <th>0</th>\n",
       "      <td>Richardfort</td>\n",
       "      <td>38</td>\n",
       "      <td>Urban</td>\n",
       "      <td>2018-02-24 08:40:38</td>\n",
       "      <td>13.93</td>\n",
       "      <td>5628545007794</td>\n",
       "    </tr>\n",
       "    <tr>\n",
       "      <th>1</th>\n",
       "      <td>Richardfort</td>\n",
       "      <td>38</td>\n",
       "      <td>Urban</td>\n",
       "      <td>2018-02-13 12:46:07</td>\n",
       "      <td>14.00</td>\n",
       "      <td>910050116494</td>\n",
       "    </tr>\n",
       "    <tr>\n",
       "      <th>2</th>\n",
       "      <td>Richardfort</td>\n",
       "      <td>38</td>\n",
       "      <td>Urban</td>\n",
       "      <td>2018-02-16 13:52:19</td>\n",
       "      <td>17.92</td>\n",
       "      <td>820639054416</td>\n",
       "    </tr>\n",
       "    <tr>\n",
       "      <th>3</th>\n",
       "      <td>Richardfort</td>\n",
       "      <td>38</td>\n",
       "      <td>Urban</td>\n",
       "      <td>2018-02-01 20:18:28</td>\n",
       "      <td>10.26</td>\n",
       "      <td>9554935945413</td>\n",
       "    </tr>\n",
       "    <tr>\n",
       "      <th>4</th>\n",
       "      <td>Richardfort</td>\n",
       "      <td>38</td>\n",
       "      <td>Urban</td>\n",
       "      <td>2018-04-17 02:26:37</td>\n",
       "      <td>23.00</td>\n",
       "      <td>720020655850</td>\n",
       "    </tr>\n",
       "  </tbody>\n",
       "</table>\n",
       "</div>"
      ],
      "text/plain": [
       "          city  driver_count   type                 date   fare        ride_id\n",
       "0  Richardfort            38  Urban  2018-02-24 08:40:38  13.93  5628545007794\n",
       "1  Richardfort            38  Urban  2018-02-13 12:46:07  14.00   910050116494\n",
       "2  Richardfort            38  Urban  2018-02-16 13:52:19  17.92   820639054416\n",
       "3  Richardfort            38  Urban  2018-02-01 20:18:28  10.26  9554935945413\n",
       "4  Richardfort            38  Urban  2018-04-17 02:26:37  23.00   720020655850"
      ]
     },
     "execution_count": 1,
     "metadata": {},
     "output_type": "execute_result"
    }
   ],
   "source": [
    "%matplotlib inline\n",
    "# Dependencies and Setup\n",
    "%matplotlib inline\n",
    "import matplotlib.pyplot as plt\n",
    "import pandas as pd\n",
    "import numpy as np\n",
    "\n",
    "# File to Load (Remember to change these)\n",
    "city_data_to_load = \"city_data.csv\"\n",
    "ride_data_to_load = \"ride_data.csv\"\n",
    "\n",
    "# Read the City and Ride Data\n",
    "city_df = pd.read_csv(city_data_to_load)\n",
    "ride_df = pd.read_csv(ride_data_to_load)\n",
    "\n",
    "# Combine the data into a single dataset\n",
    "combine_df = pd.merge(city_df, ride_df, on=\"city\")\n",
    "\n",
    "# Display the data table for preview\n",
    "combine_df.head()\n"
   ]
  },
  {
   "cell_type": "code",
   "execution_count": null,
   "metadata": {
    "scrolled": true
   },
   "outputs": [],
   "source": []
  },
  {
   "cell_type": "markdown",
   "metadata": {},
   "source": [
    "## Bubble Plot of Ride Sharing Data"
   ]
  },
  {
   "cell_type": "code",
   "execution_count": 2,
   "metadata": {},
   "outputs": [
    {
     "data": {
      "text/html": [
       "<div>\n",
       "<style scoped>\n",
       "    .dataframe tbody tr th:only-of-type {\n",
       "        vertical-align: middle;\n",
       "    }\n",
       "\n",
       "    .dataframe tbody tr th {\n",
       "        vertical-align: top;\n",
       "    }\n",
       "\n",
       "    .dataframe thead th {\n",
       "        text-align: right;\n",
       "    }\n",
       "</style>\n",
       "<table border=\"1\" class=\"dataframe\">\n",
       "  <thead>\n",
       "    <tr style=\"text-align: right;\">\n",
       "      <th></th>\n",
       "      <th>city</th>\n",
       "      <th>fare</th>\n",
       "      <th>ride_id</th>\n",
       "      <th>driver_count</th>\n",
       "      <th>type</th>\n",
       "      <th>Average Fare</th>\n",
       "    </tr>\n",
       "  </thead>\n",
       "  <tbody>\n",
       "    <tr>\n",
       "      <th>0</th>\n",
       "      <td>Amandaburgh</td>\n",
       "      <td>443.55</td>\n",
       "      <td>18</td>\n",
       "      <td>12</td>\n",
       "      <td>Urban</td>\n",
       "      <td>24.641667</td>\n",
       "    </tr>\n",
       "    <tr>\n",
       "      <th>1</th>\n",
       "      <td>Barajasview</td>\n",
       "      <td>557.31</td>\n",
       "      <td>22</td>\n",
       "      <td>26</td>\n",
       "      <td>Urban</td>\n",
       "      <td>25.332273</td>\n",
       "    </tr>\n",
       "    <tr>\n",
       "      <th>6</th>\n",
       "      <td>Carriemouth</td>\n",
       "      <td>764.49</td>\n",
       "      <td>27</td>\n",
       "      <td>52</td>\n",
       "      <td>Urban</td>\n",
       "      <td>28.314444</td>\n",
       "    </tr>\n",
       "    <tr>\n",
       "      <th>7</th>\n",
       "      <td>Christopherfurt</td>\n",
       "      <td>661.55</td>\n",
       "      <td>27</td>\n",
       "      <td>41</td>\n",
       "      <td>Urban</td>\n",
       "      <td>24.501852</td>\n",
       "    </tr>\n",
       "    <tr>\n",
       "      <th>10</th>\n",
       "      <td>Deanville</td>\n",
       "      <td>491.01</td>\n",
       "      <td>19</td>\n",
       "      <td>49</td>\n",
       "      <td>Urban</td>\n",
       "      <td>25.842632</td>\n",
       "    </tr>\n",
       "  </tbody>\n",
       "</table>\n",
       "</div>"
      ],
      "text/plain": [
       "               city    fare  ride_id  driver_count   type  Average Fare\n",
       "0       Amandaburgh  443.55       18            12  Urban     24.641667\n",
       "1       Barajasview  557.31       22            26  Urban     25.332273\n",
       "6       Carriemouth  764.49       27            52  Urban     28.314444\n",
       "7   Christopherfurt  661.55       27            41  Urban     24.501852\n",
       "10        Deanville  491.01       19            49  Urban     25.842632"
      ]
     },
     "execution_count": 2,
     "metadata": {},
     "output_type": "execute_result"
    }
   ],
   "source": [
    "# Obtain the x and y coordinates for each of the three city types\n",
    "\n",
    "ride_city_gb = ride_df.groupby(['city'])\n",
    "\n",
    "fare_summary_s = ride_city_gb[\"fare\"].sum()\n",
    "fare_summary_df = fare_summary_s.reset_index()\n",
    "# print(fare_summary_df)\n",
    "\n",
    "ride_count_s = ride_city_gb[\"ride_id\"].count()\n",
    "ride_count_df = ride_count_s.reset_index()\n",
    "#print(ride_count_df)\n",
    "\n",
    "display1_df = pd.merge(fare_summary_df, ride_count_df, on='city')\n",
    "display1_df = pd.merge(display1_df, city_df, on='city')\n",
    "\n",
    "\n",
    "# compute average fare\n",
    "display1_df['Average Fare'] = display1_df.apply(lambda row: row[\"fare\"] / row[\"ride_id\"], axis=1)\n",
    "# \"ride_id\" here meaning the total count of rides\n",
    "\n",
    "# split the data into city types\n",
    "display1_urban_df = display1_df.loc[display1_df['type'] == \"Urban\", : ]\n",
    "display1_suburban_df = display1_df.loc[display1_df['type'] == \"Suburban\", : ]\n",
    "display1_rural_df = display1_df.loc[display1_df['type'] == \"Rural\", : ]\n",
    "display1_urban_df.head()"
   ]
  },
  {
   "cell_type": "code",
   "execution_count": 6,
   "metadata": {},
   "outputs": [
    {
     "data": {
      "image/png": "[encoded data removed]",
      "text/plain": [
       "<Figure size 432x288 with 1 Axes>"
      ]
     },
     "metadata": {
      "needs_background": "light"
     },
     "output_type": "display_data"
    }
   ],
   "source": [
    "# Build the scatter plots for each city types\n",
    "plt.scatter(display1_urban_df[\"ride_id\"], display1_urban_df[\"Average Fare\"], marker=\"o\", facecolors=\"gold\", \n",
    "            edgecolors=\"black\", s=display1_urban_df[\"driver_count\"]*12, label=\"Urban\")\n",
    "plt.scatter(display1_suburban_df[\"ride_id\"], display1_suburban_df[\"Average Fare\"], marker=\"o\", facecolors=\"lightskyblue\", \n",
    "            edgecolors=\"black\", s=display1_suburban_df[\"driver_count\"]*12, label=\"Suburban\")\n",
    "plt.scatter(display1_rural_df[\"ride_id\"], display1_rural_df[\"Average Fare\"], marker=\"o\", facecolors=\"lightcoral\", \n",
    "            edgecolors=\"black\", s=display1_rural_df[\"driver_count\"]*12, label=\"Rural\")\n",
    "\n",
    "\n",
    "# Incorporate the other graph properties\n",
    "plt.title(\"Pyber Ride Sharing Data\")\n",
    "plt.xlabel(\"Total Number of Rides (per city)\")\n",
    "plt.ylabel(\"Average Fare ($)\")\n",
    "\n",
    "plt.xlim(0, 45)\n",
    "plt.ylim(15, 45)\n",
    "\n",
    "plt.grid()\n",
    "\n",
    "# Create a legend\n",
    "lgnd = plt.legend(loc=\"best\",title=\"City Types\",title_fontsize=12) \n",
    "# this trick makes the circles in the legend the same size:\n",
    "lgnd.legendHandles[0]._sizes = [30]\n",
    "lgnd.legendHandles[1]._sizes = [30]\n",
    "lgnd.legendHandles[2]._sizes = [30]\n",
    "\n",
    "# Incorporate a text label regarding circle size\n",
    "plt.text(47,37,\"Note:\")\n",
    "plt.text(47,35,\"Circle Size correlates with driver count per city\")\n",
    "\n",
    "# Save Figure\n",
    "plt.savefig(\"plot1.png\", bbox_inches=\"tight\")\n"
   ]
  },
  {
   "cell_type": "code",
   "execution_count": 4,
   "metadata": {},
   "outputs": [],
   "source": [
    "# Show plot\n",
    "plt.show()"
   ]
  },
  {
   "cell_type": "markdown",
   "metadata": {},
   "source": [
    "## Total Fares by City Type"
   ]
  },
  {
   "cell_type": "code",
   "execution_count": null,
   "metadata": {},
   "outputs": [],
   "source": [
    "# Calculate Type Percents\n",
    "# conveniently, we have these separated by city type from above\n",
    "urban_fare_total = display1_urban_df[\"fare\"].sum()\n",
    "suburban_fare_total = display1_suburban_df[\"fare\"].sum()\n",
    "rural_fare_total = display1_rural_df[\"fare\"].sum()\n",
    "\n",
    "\n",
    "data_points = [urban_fare_total, suburban_fare_total, rural_fare_total]\n",
    "expl = [0.08, 0, 0]\n",
    "labels = [\"Urban\", \"Suburban\", \"Rural\"]\n",
    "colors = [\"gold\", \"lightskyblue\", \"lightcoral\"]\n",
    "startangle = 120\n",
    "\n",
    "# Build Pie Chart\n",
    "\n",
    "plt.pie(data_points, explode=expl, labels=labels, colors=colors,\n",
    "    autopct=\"%1.1f%%\", shadow=True, startangle=60)\n",
    "# plt.axis(\"equal\")\n",
    "plt.title(\"Percent of Total Fares by City Type\")\n",
    "\n",
    "\n",
    "# Save Figure\n"
   ]
  },
  {
   "cell_type": "code",
   "execution_count": null,
   "metadata": {},
   "outputs": [],
   "source": [
    "# Show Figure\n",
    "plt.show()"
   ]
  },
  {
   "cell_type": "markdown",
   "metadata": {},
   "source": [
    "## Total Rides by City Type"
   ]
  },
  {
   "cell_type": "code",
   "execution_count": null,
   "metadata": {},
   "outputs": [],
   "source": [
    "# Calculate Ride Percents\n",
    "# conveniently, we have these separated by city type from above\n",
    "urban_ride_total = display1_urban_df[\"ride_id\"].sum()\n",
    "suburban_ride_total = display1_suburban_df[\"ride_id\"].sum()\n",
    "rural_ride_total = display1_rural_df[\"ride_id\"].sum()\n",
    "\n",
    "\n",
    "data_points = [urban_ride_total, suburban_ride_total, rural_ride_total]\n",
    "expl = [0.08, 0, 0]\n",
    "labels = [\"Urban\", \"Suburban\", \"Rural\"]\n",
    "colors = [\"gold\", \"lightskyblue\", \"lightcoral\"]\n",
    "startangle = 120\n",
    "\n",
    "# Build Pie Chart\n",
    "\n",
    "plt.pie(data_points, explode=expl, labels=labels, colors=colors,\n",
    "    autopct=\"%1.1f%%\", shadow=True, startangle=60)\n",
    "# plt.axis(\"equal\")\n",
    "plt.title(\"Percent of Total Rides by City Type\")\n",
    "\n",
    "\n",
    "\n",
    "# Save Figure\n"
   ]
  },
  {
   "cell_type": "code",
   "execution_count": null,
   "metadata": {},
   "outputs": [],
   "source": [
    "# Show Figure\n",
    "plt.show()"
   ]
  },
  {
   "cell_type": "markdown",
   "metadata": {},
   "source": [
    "## Total Drivers by City Type"
   ]
  },
  {
   "cell_type": "code",
   "execution_count": null,
   "metadata": {},
   "outputs": [],
   "source": [
    "# Calculate Driver Percents\n",
    "# once again, we have these separated by city type from above\n",
    "urban_driver_total = display1_urban_df[\"driver_count\"].sum()\n",
    "suburban_driver_total = display1_suburban_df[\"driver_count\"].sum()\n",
    "rural_driver_total = display1_rural_df[\"driver_count\"].sum()\n",
    "\n",
    "\n",
    "data_points = [urban_driver_total, suburban_driver_total, rural_driver_total]\n",
    "expl = [0.08, 0, 0]\n",
    "labels = [\"Urban\", \"Suburban\", \"Rural\"]\n",
    "colors = [\"gold\", \"lightskyblue\", \"lightcoral\"]\n",
    "startangle = 120\n",
    "\n",
    "# Build Pie Chart\n",
    "\n",
    "plt.pie(data_points, explode=expl, labels=labels, colors=colors,\n",
    "    autopct=\"%1.1f%%\", shadow=True, startangle=60)\n",
    "# plt.axis(\"equal\")\n",
    "plt.title(\"Percent of Total Drivers by City Type\")\n",
    "\n",
    "\n",
    "# Save Figure\n",
    "\n",
    "\n",
    "# Build Pie Charts\n",
    "\n",
    "# Save Figure\n"
   ]
  },
  {
   "cell_type": "code",
   "execution_count": null,
   "metadata": {
    "scrolled": true
   },
   "outputs": [],
   "source": [
    "# Show Figure\n",
    "plt.show()"
   ]
  },
  {
   "cell_type": "code",
   "execution_count": null,
   "metadata": {},
   "outputs": [],
   "source": []
  }
 ],
 "metadata": {
  "anaconda-cloud": {},
  "kernelspec": {
   "display_name": "Python 3",
   "language": "python",
   "name": "python3"
  },
  "language_info": {
   "codemirror_mode": {
    "name": "ipython",
    "version": 3
   },
   "file_extension": ".py",
   "mimetype": "text/x-python",
   "name": "python",
   "nbconvert_exporter": "python",
   "pygments_lexer": "ipython3",
   "version": "3.7.1"
  }
 },
 "nbformat": 4,
 "nbformat_minor": 2
}
