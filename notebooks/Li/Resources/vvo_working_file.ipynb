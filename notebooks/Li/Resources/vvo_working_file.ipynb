{
 "cells": [
  {
   "cell_type": "markdown",
   "metadata": {},
   "source": [
    "# Ideal Location for Alternative Energy"
   ]
  },
  {
   "cell_type": "markdown",
   "metadata": {},
   "source": [
    "## Preparing Data"
   ]
  },
  {
   "cell_type": "code",
   "execution_count": 16,
   "metadata": {},
   "outputs": [],
   "source": [
    "import pandas as pd\n",
    "import numpy as np\n",
    "import gmaps\n",
    "\n",
    "# Google developer API key\n",
    "from gkey import gkey"
   ]
  },
  {
   "cell_type": "code",
   "execution_count": 17,
   "metadata": {},
   "outputs": [
    {
     "data": {
      "text/html": [
       "<div>\n",
       "<style scoped>\n",
       "    .dataframe tbody tr th:only-of-type {\n",
       "        vertical-align: middle;\n",
       "    }\n",
       "\n",
       "    .dataframe tbody tr th {\n",
       "        vertical-align: top;\n",
       "    }\n",
       "\n",
       "    .dataframe thead th {\n",
       "        text-align: right;\n",
       "    }\n",
       "</style>\n",
       "<table border=\"1\" class=\"dataframe\">\n",
       "  <thead>\n",
       "    <tr style=\"text-align: right;\">\n",
       "      <th></th>\n",
       "      <th>ID</th>\n",
       "      <th>Year</th>\n",
       "      <th>Month</th>\n",
       "      <th>Element</th>\n",
       "      <th>Avg Value</th>\n",
       "    </tr>\n",
       "  </thead>\n",
       "  <tbody>\n",
       "    <tr>\n",
       "      <th>0</th>\n",
       "      <td>USC00050109</td>\n",
       "      <td>2011</td>\n",
       "      <td>1</td>\n",
       "      <td>AWND</td>\n",
       "      <td>41.193548</td>\n",
       "    </tr>\n",
       "    <tr>\n",
       "      <th>1</th>\n",
       "      <td>USC00050109</td>\n",
       "      <td>2011</td>\n",
       "      <td>2</td>\n",
       "      <td>AWND</td>\n",
       "      <td>42.250000</td>\n",
       "    </tr>\n",
       "    <tr>\n",
       "      <th>2</th>\n",
       "      <td>USC00050109</td>\n",
       "      <td>2011</td>\n",
       "      <td>3</td>\n",
       "      <td>AWND</td>\n",
       "      <td>40.548387</td>\n",
       "    </tr>\n",
       "    <tr>\n",
       "      <th>3</th>\n",
       "      <td>USC00050109</td>\n",
       "      <td>2011</td>\n",
       "      <td>4</td>\n",
       "      <td>AWND</td>\n",
       "      <td>47.533333</td>\n",
       "    </tr>\n",
       "    <tr>\n",
       "      <th>4</th>\n",
       "      <td>USC00050109</td>\n",
       "      <td>2011</td>\n",
       "      <td>5</td>\n",
       "      <td>AWND</td>\n",
       "      <td>48.838710</td>\n",
       "    </tr>\n",
       "  </tbody>\n",
       "</table>\n",
       "</div>"
      ],
      "text/plain": [
       "            ID  Year  Month Element  Avg Value\n",
       "0  USC00050109  2011      1    AWND  41.193548\n",
       "1  USC00050109  2011      2    AWND  42.250000\n",
       "2  USC00050109  2011      3    AWND  40.548387\n",
       "3  USC00050109  2011      4    AWND  47.533333\n",
       "4  USC00050109  2011      5    AWND  48.838710"
      ]
     },
     "execution_count": 17,
     "metadata": {},
     "output_type": "execute_result"
    }
   ],
   "source": [
    "# Import weather data file\n",
    "path_weather = \"weatherdata_v2.csv\"\n",
    "data_weather = pd.read_csv(path_weather)\n",
    "data_weather.head()"
   ]
  },
  {
   "cell_type": "code",
   "execution_count": 18,
   "metadata": {},
   "outputs": [
    {
     "data": {
      "text/plain": [
       "1082"
      ]
     },
     "execution_count": 18,
     "metadata": {},
     "output_type": "execute_result"
    }
   ],
   "source": [
    "len(data_weather['ID'].unique())"
   ]
  },
  {
   "cell_type": "code",
   "execution_count": 19,
   "metadata": {},
   "outputs": [
    {
     "data": {
      "text/html": [
       "<div>\n",
       "<style scoped>\n",
       "    .dataframe tbody tr th:only-of-type {\n",
       "        vertical-align: middle;\n",
       "    }\n",
       "\n",
       "    .dataframe tbody tr th {\n",
       "        vertical-align: top;\n",
       "    }\n",
       "\n",
       "    .dataframe thead th {\n",
       "        text-align: right;\n",
       "    }\n",
       "</style>\n",
       "<table border=\"1\" class=\"dataframe\">\n",
       "  <thead>\n",
       "    <tr style=\"text-align: right;\">\n",
       "      <th></th>\n",
       "      <th>ID</th>\n",
       "      <th>Latitude</th>\n",
       "      <th>Longitude</th>\n",
       "      <th>Elevation</th>\n",
       "      <th>State</th>\n",
       "      <th>Name</th>\n",
       "    </tr>\n",
       "  </thead>\n",
       "  <tbody>\n",
       "    <tr>\n",
       "      <th>0</th>\n",
       "      <td>US009052008</td>\n",
       "      <td>43.7333</td>\n",
       "      <td>-96.6333</td>\n",
       "      <td>482.0</td>\n",
       "      <td>SD</td>\n",
       "      <td>SIOUX FALLS (ENVIRON. CANADA)</td>\n",
       "    </tr>\n",
       "    <tr>\n",
       "      <th>1</th>\n",
       "      <td>US10RMHS145</td>\n",
       "      <td>40.5268</td>\n",
       "      <td>-105.1113</td>\n",
       "      <td>1569.1</td>\n",
       "      <td>CO</td>\n",
       "      <td>RMHS 1.6 SSW</td>\n",
       "    </tr>\n",
       "    <tr>\n",
       "      <th>2</th>\n",
       "      <td>US10adam001</td>\n",
       "      <td>40.5680</td>\n",
       "      <td>-98.5069</td>\n",
       "      <td>598.0</td>\n",
       "      <td>NE</td>\n",
       "      <td>JUNIATA 1.5 S</td>\n",
       "    </tr>\n",
       "    <tr>\n",
       "      <th>3</th>\n",
       "      <td>US10adam002</td>\n",
       "      <td>40.5093</td>\n",
       "      <td>-98.5493</td>\n",
       "      <td>601.1</td>\n",
       "      <td>NE</td>\n",
       "      <td>JUNIATA 6.0 SSW</td>\n",
       "    </tr>\n",
       "    <tr>\n",
       "      <th>4</th>\n",
       "      <td>US10adam003</td>\n",
       "      <td>40.4663</td>\n",
       "      <td>-98.6537</td>\n",
       "      <td>615.1</td>\n",
       "      <td>NE</td>\n",
       "      <td>HOLSTEIN 0.1 NW</td>\n",
       "    </tr>\n",
       "  </tbody>\n",
       "</table>\n",
       "</div>"
      ],
      "text/plain": [
       "            ID  Latitude  Longitude  Elevation State  \\\n",
       "0  US009052008   43.7333   -96.6333      482.0    SD   \n",
       "1  US10RMHS145   40.5268  -105.1113     1569.1    CO   \n",
       "2  US10adam001   40.5680   -98.5069      598.0    NE   \n",
       "3  US10adam002   40.5093   -98.5493      601.1    NE   \n",
       "4  US10adam003   40.4663   -98.6537      615.1    NE   \n",
       "\n",
       "                             Name  \n",
       "0  SIOUX FALLS (ENVIRON. CANADA)   \n",
       "1  RMHS 1.6 SSW                    \n",
       "2  JUNIATA 1.5 S                   \n",
       "3  JUNIATA 6.0 SSW                 \n",
       "4  HOLSTEIN 0.1 NW                 "
      ]
     },
     "execution_count": 19,
     "metadata": {},
     "output_type": "execute_result"
    }
   ],
   "source": [
    "# Import stations list for lat and long\n",
    "path_station = \"Stations.csv\"\n",
    "data_station = pd.read_csv(path_station)\n",
    "data_station.head()"
   ]
  },
  {
   "cell_type": "code",
   "execution_count": 20,
   "metadata": {},
   "outputs": [
    {
     "data": {
      "text/html": [
       "<div>\n",
       "<style scoped>\n",
       "    .dataframe tbody tr th:only-of-type {\n",
       "        vertical-align: middle;\n",
       "    }\n",
       "\n",
       "    .dataframe tbody tr th {\n",
       "        vertical-align: top;\n",
       "    }\n",
       "\n",
       "    .dataframe thead th {\n",
       "        text-align: right;\n",
       "    }\n",
       "</style>\n",
       "<table border=\"1\" class=\"dataframe\">\n",
       "  <thead>\n",
       "    <tr style=\"text-align: right;\">\n",
       "      <th></th>\n",
       "      <th>ID</th>\n",
       "      <th>Year</th>\n",
       "      <th>Month</th>\n",
       "      <th>Element</th>\n",
       "      <th>Avg Monthly Value</th>\n",
       "      <th>Latitude</th>\n",
       "      <th>Longitude</th>\n",
       "      <th>Elevation</th>\n",
       "      <th>State</th>\n",
       "      <th>Name</th>\n",
       "    </tr>\n",
       "  </thead>\n",
       "  <tbody>\n",
       "    <tr>\n",
       "      <th>0</th>\n",
       "      <td>USC00050109</td>\n",
       "      <td>2011</td>\n",
       "      <td>1</td>\n",
       "      <td>AWND</td>\n",
       "      <td>41.193548</td>\n",
       "      <td>40.155</td>\n",
       "      <td>-103.1417</td>\n",
       "      <td>1384.4</td>\n",
       "      <td>CO</td>\n",
       "      <td>AKRON 4 E</td>\n",
       "    </tr>\n",
       "    <tr>\n",
       "      <th>1</th>\n",
       "      <td>USC00050109</td>\n",
       "      <td>2011</td>\n",
       "      <td>2</td>\n",
       "      <td>AWND</td>\n",
       "      <td>42.250000</td>\n",
       "      <td>40.155</td>\n",
       "      <td>-103.1417</td>\n",
       "      <td>1384.4</td>\n",
       "      <td>CO</td>\n",
       "      <td>AKRON 4 E</td>\n",
       "    </tr>\n",
       "    <tr>\n",
       "      <th>2</th>\n",
       "      <td>USC00050109</td>\n",
       "      <td>2011</td>\n",
       "      <td>3</td>\n",
       "      <td>AWND</td>\n",
       "      <td>40.548387</td>\n",
       "      <td>40.155</td>\n",
       "      <td>-103.1417</td>\n",
       "      <td>1384.4</td>\n",
       "      <td>CO</td>\n",
       "      <td>AKRON 4 E</td>\n",
       "    </tr>\n",
       "    <tr>\n",
       "      <th>3</th>\n",
       "      <td>USC00050109</td>\n",
       "      <td>2011</td>\n",
       "      <td>4</td>\n",
       "      <td>AWND</td>\n",
       "      <td>47.533333</td>\n",
       "      <td>40.155</td>\n",
       "      <td>-103.1417</td>\n",
       "      <td>1384.4</td>\n",
       "      <td>CO</td>\n",
       "      <td>AKRON 4 E</td>\n",
       "    </tr>\n",
       "    <tr>\n",
       "      <th>4</th>\n",
       "      <td>USC00050109</td>\n",
       "      <td>2011</td>\n",
       "      <td>5</td>\n",
       "      <td>AWND</td>\n",
       "      <td>48.838710</td>\n",
       "      <td>40.155</td>\n",
       "      <td>-103.1417</td>\n",
       "      <td>1384.4</td>\n",
       "      <td>CO</td>\n",
       "      <td>AKRON 4 E</td>\n",
       "    </tr>\n",
       "  </tbody>\n",
       "</table>\n",
       "</div>"
      ],
      "text/plain": [
       "            ID  Year  Month Element  Avg Monthly Value  Latitude  Longitude  \\\n",
       "0  USC00050109  2011      1    AWND          41.193548    40.155  -103.1417   \n",
       "1  USC00050109  2011      2    AWND          42.250000    40.155  -103.1417   \n",
       "2  USC00050109  2011      3    AWND          40.548387    40.155  -103.1417   \n",
       "3  USC00050109  2011      4    AWND          47.533333    40.155  -103.1417   \n",
       "4  USC00050109  2011      5    AWND          48.838710    40.155  -103.1417   \n",
       "\n",
       "   Elevation State                            Name  \n",
       "0     1384.4    CO  AKRON 4 E                       \n",
       "1     1384.4    CO  AKRON 4 E                       \n",
       "2     1384.4    CO  AKRON 4 E                       \n",
       "3     1384.4    CO  AKRON 4 E                       \n",
       "4     1384.4    CO  AKRON 4 E                       "
      ]
     },
     "execution_count": 20,
     "metadata": {},
     "output_type": "execute_result"
    }
   ],
   "source": [
    "#Merge both data frames\n",
    "data = pd.merge(data_weather, data_station, on=\"ID\",how='inner')\n",
    "data = data.rename(columns={'Avg Value':'Avg Monthly Value'})\n",
    "data.head()"
   ]
  },
  {
   "cell_type": "code",
   "execution_count": 21,
   "metadata": {},
   "outputs": [
    {
     "data": {
      "text/html": [
       "<div>\n",
       "<style scoped>\n",
       "    .dataframe tbody tr th:only-of-type {\n",
       "        vertical-align: middle;\n",
       "    }\n",
       "\n",
       "    .dataframe tbody tr th {\n",
       "        vertical-align: top;\n",
       "    }\n",
       "\n",
       "    .dataframe thead th {\n",
       "        text-align: right;\n",
       "    }\n",
       "</style>\n",
       "<table border=\"1\" class=\"dataframe\">\n",
       "  <thead>\n",
       "    <tr style=\"text-align: right;\">\n",
       "      <th></th>\n",
       "      <th>ID</th>\n",
       "      <th>Year</th>\n",
       "      <th>Month</th>\n",
       "      <th>Element</th>\n",
       "      <th>Avg Monthly Value</th>\n",
       "      <th>Latitude</th>\n",
       "      <th>Longitude</th>\n",
       "      <th>Elevation</th>\n",
       "      <th>State</th>\n",
       "      <th>Name</th>\n",
       "      <th>Month Counts</th>\n",
       "    </tr>\n",
       "  </thead>\n",
       "  <tbody>\n",
       "    <tr>\n",
       "      <th>0</th>\n",
       "      <td>USC00050109</td>\n",
       "      <td>2011</td>\n",
       "      <td>1</td>\n",
       "      <td>AWND</td>\n",
       "      <td>41.193548</td>\n",
       "      <td>40.155</td>\n",
       "      <td>-103.1417</td>\n",
       "      <td>1384.4</td>\n",
       "      <td>CO</td>\n",
       "      <td>AKRON 4 E</td>\n",
       "      <td>16</td>\n",
       "    </tr>\n",
       "    <tr>\n",
       "      <th>1</th>\n",
       "      <td>USC00050109</td>\n",
       "      <td>2011</td>\n",
       "      <td>2</td>\n",
       "      <td>AWND</td>\n",
       "      <td>42.250000</td>\n",
       "      <td>40.155</td>\n",
       "      <td>-103.1417</td>\n",
       "      <td>1384.4</td>\n",
       "      <td>CO</td>\n",
       "      <td>AKRON 4 E</td>\n",
       "      <td>16</td>\n",
       "    </tr>\n",
       "    <tr>\n",
       "      <th>2</th>\n",
       "      <td>USC00050109</td>\n",
       "      <td>2011</td>\n",
       "      <td>3</td>\n",
       "      <td>AWND</td>\n",
       "      <td>40.548387</td>\n",
       "      <td>40.155</td>\n",
       "      <td>-103.1417</td>\n",
       "      <td>1384.4</td>\n",
       "      <td>CO</td>\n",
       "      <td>AKRON 4 E</td>\n",
       "      <td>16</td>\n",
       "    </tr>\n",
       "    <tr>\n",
       "      <th>3</th>\n",
       "      <td>USC00050109</td>\n",
       "      <td>2011</td>\n",
       "      <td>4</td>\n",
       "      <td>AWND</td>\n",
       "      <td>47.533333</td>\n",
       "      <td>40.155</td>\n",
       "      <td>-103.1417</td>\n",
       "      <td>1384.4</td>\n",
       "      <td>CO</td>\n",
       "      <td>AKRON 4 E</td>\n",
       "      <td>16</td>\n",
       "    </tr>\n",
       "    <tr>\n",
       "      <th>4</th>\n",
       "      <td>USC00050109</td>\n",
       "      <td>2011</td>\n",
       "      <td>5</td>\n",
       "      <td>AWND</td>\n",
       "      <td>48.838710</td>\n",
       "      <td>40.155</td>\n",
       "      <td>-103.1417</td>\n",
       "      <td>1384.4</td>\n",
       "      <td>CO</td>\n",
       "      <td>AKRON 4 E</td>\n",
       "      <td>16</td>\n",
       "    </tr>\n",
       "  </tbody>\n",
       "</table>\n",
       "</div>"
      ],
      "text/plain": [
       "            ID  Year  Month Element  Avg Monthly Value  Latitude  Longitude  \\\n",
       "0  USC00050109  2011      1    AWND          41.193548    40.155  -103.1417   \n",
       "1  USC00050109  2011      2    AWND          42.250000    40.155  -103.1417   \n",
       "2  USC00050109  2011      3    AWND          40.548387    40.155  -103.1417   \n",
       "3  USC00050109  2011      4    AWND          47.533333    40.155  -103.1417   \n",
       "4  USC00050109  2011      5    AWND          48.838710    40.155  -103.1417   \n",
       "\n",
       "   Elevation State                            Name  Month Counts  \n",
       "0     1384.4    CO  AKRON 4 E                                 16  \n",
       "1     1384.4    CO  AKRON 4 E                                 16  \n",
       "2     1384.4    CO  AKRON 4 E                                 16  \n",
       "3     1384.4    CO  AKRON 4 E                                 16  \n",
       "4     1384.4    CO  AKRON 4 E                                 16  "
      ]
     },
     "execution_count": 21,
     "metadata": {},
     "output_type": "execute_result"
    }
   ],
   "source": [
    "# Add 'Month Counts' column to determine how many months of data each station has.\n",
    "data['Month Counts'] = data.groupby(['ID'])['Month'].transform('count')\n",
    "data.head()"
   ]
  },
  {
   "cell_type": "code",
   "execution_count": 22,
   "metadata": {},
   "outputs": [
    {
     "data": {
      "text/plain": [
       "1054"
      ]
     },
     "execution_count": 22,
     "metadata": {},
     "output_type": "execute_result"
    }
   ],
   "source": [
    "# Only keep stations with at least 12 months of data.\n",
    "data = data[data['Month Counts']>=12]\n",
    "len(data['ID'].unique())"
   ]
  },
  {
   "cell_type": "code",
   "execution_count": 23,
   "metadata": {},
   "outputs": [],
   "source": [
    "# Calculate average number for each element for each station\n",
    "data_group = data.groupby(['ID', 'Element']).mean()[['Avg Monthly Value', 'Latitude', 'Longitude', 'Elevation']]\n",
    "data_group = data_group.rename(columns={'Avg Monthly Value': 'Value'})\n"
   ]
  },
  {
   "cell_type": "code",
   "execution_count": 24,
   "metadata": {},
   "outputs": [
    {
     "data": {
      "text/html": [
       "<div>\n",
       "<style scoped>\n",
       "    .dataframe tbody tr th:only-of-type {\n",
       "        vertical-align: middle;\n",
       "    }\n",
       "\n",
       "    .dataframe tbody tr th {\n",
       "        vertical-align: top;\n",
       "    }\n",
       "\n",
       "    .dataframe thead th {\n",
       "        text-align: right;\n",
       "    }\n",
       "</style>\n",
       "<table border=\"1\" class=\"dataframe\">\n",
       "  <thead>\n",
       "    <tr style=\"text-align: right;\">\n",
       "      <th></th>\n",
       "      <th>ID</th>\n",
       "      <th>Element</th>\n",
       "      <th>Value</th>\n",
       "      <th>Latitude</th>\n",
       "      <th>Longitude</th>\n",
       "      <th>Elevation</th>\n",
       "    </tr>\n",
       "  </thead>\n",
       "  <tbody>\n",
       "    <tr>\n",
       "      <th>0</th>\n",
       "      <td>USC00050109</td>\n",
       "      <td>AWND</td>\n",
       "      <td>47.200534</td>\n",
       "      <td>40.1550</td>\n",
       "      <td>-103.1417</td>\n",
       "      <td>1384.4</td>\n",
       "    </tr>\n",
       "    <tr>\n",
       "      <th>1</th>\n",
       "      <td>USC00051996</td>\n",
       "      <td>AWND</td>\n",
       "      <td>21.682163</td>\n",
       "      <td>40.8600</td>\n",
       "      <td>-102.8031</td>\n",
       "      <td>1130.5</td>\n",
       "    </tr>\n",
       "    <tr>\n",
       "      <th>2</th>\n",
       "      <td>USC00052947</td>\n",
       "      <td>AWND</td>\n",
       "      <td>40.141416</td>\n",
       "      <td>40.6483</td>\n",
       "      <td>-102.8594</td>\n",
       "      <td>1297.2</td>\n",
       "    </tr>\n",
       "    <tr>\n",
       "      <th>3</th>\n",
       "      <td>USC00053005</td>\n",
       "      <td>AWND</td>\n",
       "      <td>15.373269</td>\n",
       "      <td>40.5764</td>\n",
       "      <td>-105.0858</td>\n",
       "      <td>1525.2</td>\n",
       "    </tr>\n",
       "    <tr>\n",
       "      <th>4</th>\n",
       "      <td>USC00053261</td>\n",
       "      <td>AWND</td>\n",
       "      <td>44.030606</td>\n",
       "      <td>39.7053</td>\n",
       "      <td>-105.6997</td>\n",
       "      <td>2596.9</td>\n",
       "    </tr>\n",
       "  </tbody>\n",
       "</table>\n",
       "</div>"
      ],
      "text/plain": [
       "            ID Element      Value  Latitude  Longitude  Elevation\n",
       "0  USC00050109    AWND  47.200534   40.1550  -103.1417     1384.4\n",
       "1  USC00051996    AWND  21.682163   40.8600  -102.8031     1130.5\n",
       "2  USC00052947    AWND  40.141416   40.6483  -102.8594     1297.2\n",
       "3  USC00053005    AWND  15.373269   40.5764  -105.0858     1525.2\n",
       "4  USC00053261    AWND  44.030606   39.7053  -105.6997     2596.9"
      ]
     },
     "execution_count": 24,
     "metadata": {},
     "output_type": "execute_result"
    }
   ],
   "source": [
    "# Convert df to dataframe\n",
    "df = data_group.reset_index()\n",
    "df.head()"
   ]
  },
  {
   "cell_type": "markdown",
   "metadata": {},
   "source": [
    "## Find locations with optimal wind speed"
   ]
  },
  {
   "cell_type": "code",
   "execution_count": 25,
   "metadata": {},
   "outputs": [
    {
     "data": {
      "text/plain": [
       "array(['AWND', 'PSUN', 'ACMH', 'ACSH', 'ACMC', 'ACSC'], dtype=object)"
      ]
     },
     "execution_count": 25,
     "metadata": {},
     "output_type": "execute_result"
    }
   ],
   "source": [
    "# AWND: Average daily wind speed (tenths of meters per second)\n",
    "# PSUN: Daily percent of possible sunshine (percent)\n",
    "# ACMH: Average cloudiness midnight to midnight from manual observations (percent)\n",
    "# ACSH: Average cloudiness sunrise to sunset from manual observations (percent)\n",
    "# ACMC: Average cloudiness midnight to midnight from 30-second ceilometer data (percent)\n",
    "# ACSC: Average cloudiness sunrise to sunset from 30-second ceilometer data (percent)\n",
    "data['Element'].unique()"
   ]
  },
  {
   "cell_type": "code",
   "execution_count": 26,
   "metadata": {},
   "outputs": [
    {
     "data": {
      "text/html": [
       "<div>\n",
       "<style scoped>\n",
       "    .dataframe tbody tr th:only-of-type {\n",
       "        vertical-align: middle;\n",
       "    }\n",
       "\n",
       "    .dataframe tbody tr th {\n",
       "        vertical-align: top;\n",
       "    }\n",
       "\n",
       "    .dataframe thead th {\n",
       "        text-align: right;\n",
       "    }\n",
       "</style>\n",
       "<table border=\"1\" class=\"dataframe\">\n",
       "  <thead>\n",
       "    <tr style=\"text-align: right;\">\n",
       "      <th></th>\n",
       "      <th>Value</th>\n",
       "      <th>Latitude</th>\n",
       "      <th>Longitude</th>\n",
       "      <th>Elevation</th>\n",
       "    </tr>\n",
       "  </thead>\n",
       "  <tbody>\n",
       "    <tr>\n",
       "      <th>count</th>\n",
       "      <td>449.000000</td>\n",
       "      <td>449.000000</td>\n",
       "      <td>449.000000</td>\n",
       "      <td>449.000000</td>\n",
       "    </tr>\n",
       "    <tr>\n",
       "      <th>mean</th>\n",
       "      <td>43.963933</td>\n",
       "      <td>39.916689</td>\n",
       "      <td>-99.167419</td>\n",
       "      <td>487.230735</td>\n",
       "    </tr>\n",
       "    <tr>\n",
       "      <th>std</th>\n",
       "      <td>11.209840</td>\n",
       "      <td>7.956981</td>\n",
       "      <td>19.867382</td>\n",
       "      <td>541.370030</td>\n",
       "    </tr>\n",
       "    <tr>\n",
       "      <th>min</th>\n",
       "      <td>35.080982</td>\n",
       "      <td>19.760000</td>\n",
       "      <td>-176.650000</td>\n",
       "      <td>1.200000</td>\n",
       "    </tr>\n",
       "    <tr>\n",
       "      <th>25%</th>\n",
       "      <td>38.378428</td>\n",
       "      <td>35.388900</td>\n",
       "      <td>-104.688300</td>\n",
       "      <td>95.100000</td>\n",
       "    </tr>\n",
       "    <tr>\n",
       "      <th>50%</th>\n",
       "      <td>41.924313</td>\n",
       "      <td>40.316100</td>\n",
       "      <td>-97.101900</td>\n",
       "      <td>283.500000</td>\n",
       "    </tr>\n",
       "    <tr>\n",
       "      <th>75%</th>\n",
       "      <td>46.816117</td>\n",
       "      <td>43.020600</td>\n",
       "      <td>-86.650000</td>\n",
       "      <td>695.900000</td>\n",
       "    </tr>\n",
       "    <tr>\n",
       "      <th>max</th>\n",
       "      <td>190.583333</td>\n",
       "      <td>71.283300</td>\n",
       "      <td>-68.017200</td>\n",
       "      <td>2596.900000</td>\n",
       "    </tr>\n",
       "  </tbody>\n",
       "</table>\n",
       "</div>"
      ],
      "text/plain": [
       "            Value    Latitude   Longitude    Elevation\n",
       "count  449.000000  449.000000  449.000000   449.000000\n",
       "mean    43.963933   39.916689  -99.167419   487.230735\n",
       "std     11.209840    7.956981   19.867382   541.370030\n",
       "min     35.080982   19.760000 -176.650000     1.200000\n",
       "25%     38.378428   35.388900 -104.688300    95.100000\n",
       "50%     41.924313   40.316100  -97.101900   283.500000\n",
       "75%     46.816117   43.020600  -86.650000   695.900000\n",
       "max    190.583333   71.283300  -68.017200  2596.900000"
      ]
     },
     "execution_count": 26,
     "metadata": {},
     "output_type": "execute_result"
    }
   ],
   "source": [
    "# Cut in speed is 3.5 m/s, the typical cut-in speed, when a small turbine starts generating power.\n",
    "# Convert wind speed to tenths of m/s\n",
    "cut_in_wind = 35\n",
    "\n",
    "# Locations that wind can generate power.\n",
    "suitable_winds = df.loc[(df['Element']=='AWND') & (df['Value']>= cut_in_wind),:]\n",
    "suitable_winds.describe()"
   ]
  },
  {
   "cell_type": "code",
   "execution_count": 27,
   "metadata": {},
   "outputs": [
    {
     "data": {
      "text/html": [
       "<div>\n",
       "<style scoped>\n",
       "    .dataframe tbody tr th:only-of-type {\n",
       "        vertical-align: middle;\n",
       "    }\n",
       "\n",
       "    .dataframe tbody tr th {\n",
       "        vertical-align: top;\n",
       "    }\n",
       "\n",
       "    .dataframe thead th {\n",
       "        text-align: right;\n",
       "    }\n",
       "</style>\n",
       "<table border=\"1\" class=\"dataframe\">\n",
       "  <thead>\n",
       "    <tr style=\"text-align: right;\">\n",
       "      <th></th>\n",
       "      <th>ID</th>\n",
       "      <th>Element</th>\n",
       "      <th>Value</th>\n",
       "      <th>Latitude</th>\n",
       "      <th>Longitude</th>\n",
       "      <th>Elevation</th>\n",
       "    </tr>\n",
       "  </thead>\n",
       "  <tbody>\n",
       "    <tr>\n",
       "      <th>733</th>\n",
       "      <td>USW00014755</td>\n",
       "      <td>AWND</td>\n",
       "      <td>162.276405</td>\n",
       "      <td>44.2667</td>\n",
       "      <td>-71.2994</td>\n",
       "      <td>1910.2</td>\n",
       "    </tr>\n",
       "    <tr>\n",
       "      <th>744</th>\n",
       "      <td>USW00014761</td>\n",
       "      <td>AWND</td>\n",
       "      <td>190.583333</td>\n",
       "      <td>40.9167</td>\n",
       "      <td>-78.0667</td>\n",
       "      <td>592.8</td>\n",
       "    </tr>\n",
       "  </tbody>\n",
       "</table>\n",
       "</div>"
      ],
      "text/plain": [
       "              ID Element       Value  Latitude  Longitude  Elevation\n",
       "733  USW00014755    AWND  162.276405   44.2667   -71.2994     1910.2\n",
       "744  USW00014761    AWND  190.583333   40.9167   -78.0667      592.8"
      ]
     },
     "execution_count": 27,
     "metadata": {},
     "output_type": "execute_result"
    }
   ],
   "source": [
    "# Optimal wind speed: 10–15 m/s, 36–54 kph (10–15 m/s) produces maximum generation power.\n",
    "# Convert wind speed to tenths of m/s\n",
    "optimal_wind = 100\n",
    "\n",
    "# Locations with optimal wind to generate power.\n",
    "optimal_winds = df.loc[(df['Element']=='AWND') & (df['Value']>= optimal_wind),:]\n",
    "optimal_winds"
   ]
  },
  {
   "cell_type": "markdown",
   "metadata": {},
   "source": [
    "## Map Location to Google Map"
   ]
  },
  {
   "cell_type": "code",
   "execution_count": 28,
   "metadata": {},
   "outputs": [],
   "source": [
    "# Configure gmaps with API key\n",
    "gmaps.configure(api_key=gkey)"
   ]
  },
  {
   "cell_type": "code",
   "execution_count": 14,
   "metadata": {},
   "outputs": [
    {
     "data": {
      "text/plain": [
       "35.0809821982791"
      ]
     },
     "execution_count": 14,
     "metadata": {},
     "output_type": "execute_result"
    }
   ],
   "source": [
    "locations = suitable_winds[['Latitude','Longitude']].astype(float)\n",
    "wind_speed = suitable_winds['Value'].astype(float)\n",
    "wind_speed.min()"
   ]
  },
  {
   "cell_type": "code",
   "execution_count": 15,
   "metadata": {},
   "outputs": [
    {
     "data": {
      "application/vnd.jupyter.widget-view+json": {
       "model_id": "bcce81c860c64c4abaf29a045aeade3b",
       "version_major": 2,
       "version_minor": 0
      },
      "text/plain": [
       "Figure(layout=FigureLayout(height='420px'))"
      ]
     },
     "metadata": {},
     "output_type": "display_data"
    }
   ],
   "source": [
    "fig = gmaps.figure()\n",
    "\n",
    "heat_layer = gmaps.heatmap_layer(locations, weights=wind_speed, \n",
    "                                 dissipating=False, max_intensity=100,\n",
    "                                 point_radius = 1)\n",
    "\n",
    "# Adjust heat_layer setting to help with heatmap dissipating on zoom\n",
    "heat_layer.dissipating = False\n",
    "heat_layer.max_intensity = 200\n",
    "heat_layer.point_radius = 1\n",
    "\n",
    "fig.add_layer(heat_layer)\n",
    "\n",
    "fig"
   ]
  },
  {
   "cell_type": "code",
   "execution_count": null,
   "metadata": {},
   "outputs": [],
   "source": []
  }
 ],
 "metadata": {
  "kernelspec": {
   "display_name": "Python 3",
   "language": "python",
   "name": "python3"
  },
  "language_info": {
   "codemirror_mode": {
    "name": "ipython",
    "version": 3
   },
   "file_extension": ".py",
   "mimetype": "text/x-python",
   "name": "python",
   "nbconvert_exporter": "python",
   "pygments_lexer": "ipython3",
   "version": "3.7.1"
  }
 },
 "nbformat": 4,
 "nbformat_minor": 2
}
